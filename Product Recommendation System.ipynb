{
  "cells": [
    {
      "cell_type": "code",
      "execution_count": null,
      "metadata": {
        "id": "ix_5WJQz4QGi"
      },
      "outputs": [],
      "source": [
        "# Load libraries\n",
        "import pandas as pd\n",
        "from tqdm import tqdm\n",
        "from gensim.models import Word2Vec\n",
        "from sklearn.linear_model import LogisticRegression\n",
        "from sklearn.metrics import accuracy_score\n",
        "from sklearn.model_selection import train_test_split\n",
        "import numpy as np\n",
        "import seaborn as sns\n",
        "import matplotlib.pyplot as plt\n",
        "import plotly.express as px\n",
        "\n"
      ]
    },
    {
      "cell_type": "code",
      "execution_count": null,
      "metadata": {
        "id": "ML6Z83bOj1vr"
      },
      "outputs": [],
      "source": [
        "# Load the dataset\n",
        "df=pd.read_csv('/content/transactions_casestudy.txt', sep='|')  \n",
        "#df = df.sample(n = 5000, random_state=0)\n"
      ]
    },
    {
      "cell_type": "markdown",
      "metadata": {
        "id": "aKgupi2esi0E"
      },
      "source": [
        "# EDA"
      ]
    },
    {
      "cell_type": "code",
      "execution_count": null,
      "metadata": {
        "colab": {
          "base_uri": "https://localhost:8080/",
          "height": 206
        },
        "id": "ce91AMyCsqqc",
        "outputId": "53aa99de-a859-4ef1-f550-11f8caa12360"
      },
      "outputs": [
        {
          "data": {
            "text/html": [
              "\n",
              "  <div id=\"df-abe253fc-2cc8-40f7-ae6a-90c10b776fcd\">\n",
              "    <div class=\"colab-df-container\">\n",
              "      <div>\n",
              "<style scoped>\n",
              "    .dataframe tbody tr th:only-of-type {\n",
              "        vertical-align: middle;\n",
              "    }\n",
              "\n",
              "    .dataframe tbody tr th {\n",
              "        vertical-align: top;\n",
              "    }\n",
              "\n",
              "    .dataframe thead th {\n",
              "        text-align: right;\n",
              "    }\n",
              "</style>\n",
              "<table border=\"1\" class=\"dataframe\">\n",
              "  <thead>\n",
              "    <tr style=\"text-align: right;\">\n",
              "      <th></th>\n",
              "      <th>tid</th>\n",
              "      <th>date</th>\n",
              "      <th>daypart</th>\n",
              "      <th>channel</th>\n",
              "      <th>items</th>\n",
              "    </tr>\n",
              "  </thead>\n",
              "  <tbody>\n",
              "    <tr>\n",
              "      <th>0</th>\n",
              "      <td>1</td>\n",
              "      <td>2016-03-02</td>\n",
              "      <td>A</td>\n",
              "      <td>1</td>\n",
              "      <td>21d683,21d683</td>\n",
              "    </tr>\n",
              "    <tr>\n",
              "      <th>1</th>\n",
              "      <td>2</td>\n",
              "      <td>2016-03-02</td>\n",
              "      <td>A</td>\n",
              "      <td>1</td>\n",
              "      <td>aa254f,524e24,2f4a70,6ca4a6,221380,b8bfe8,2213...</td>\n",
              "    </tr>\n",
              "    <tr>\n",
              "      <th>2</th>\n",
              "      <td>3</td>\n",
              "      <td>2016-03-02</td>\n",
              "      <td>A</td>\n",
              "      <td>2</td>\n",
              "      <td>fe5db1,aa254f,550e0e,7356a8,7356a8</td>\n",
              "    </tr>\n",
              "    <tr>\n",
              "      <th>3</th>\n",
              "      <td>4</td>\n",
              "      <td>2016-03-02</td>\n",
              "      <td>A</td>\n",
              "      <td>2</td>\n",
              "      <td>4d51b8</td>\n",
              "    </tr>\n",
              "    <tr>\n",
              "      <th>4</th>\n",
              "      <td>5</td>\n",
              "      <td>2016-03-02</td>\n",
              "      <td>A</td>\n",
              "      <td>2</td>\n",
              "      <td>6050b0</td>\n",
              "    </tr>\n",
              "  </tbody>\n",
              "</table>\n",
              "</div>\n",
              "      <button class=\"colab-df-convert\" onclick=\"convertToInteractive('df-abe253fc-2cc8-40f7-ae6a-90c10b776fcd')\"\n",
              "              title=\"Convert this dataframe to an interactive table.\"\n",
              "              style=\"display:none;\">\n",
              "        \n",
              "  <svg xmlns=\"http://www.w3.org/2000/svg\" height=\"24px\"viewBox=\"0 0 24 24\"\n",
              "       width=\"24px\">\n",
              "    <path d=\"M0 0h24v24H0V0z\" fill=\"none\"/>\n",
              "    <path d=\"M18.56 5.44l.94 2.06.94-2.06 2.06-.94-2.06-.94-.94-2.06-.94 2.06-2.06.94zm-11 1L8.5 8.5l.94-2.06 2.06-.94-2.06-.94L8.5 2.5l-.94 2.06-2.06.94zm10 10l.94 2.06.94-2.06 2.06-.94-2.06-.94-.94-2.06-.94 2.06-2.06.94z\"/><path d=\"M17.41 7.96l-1.37-1.37c-.4-.4-.92-.59-1.43-.59-.52 0-1.04.2-1.43.59L10.3 9.45l-7.72 7.72c-.78.78-.78 2.05 0 2.83L4 21.41c.39.39.9.59 1.41.59.51 0 1.02-.2 1.41-.59l7.78-7.78 2.81-2.81c.8-.78.8-2.07 0-2.86zM5.41 20L4 18.59l7.72-7.72 1.47 1.35L5.41 20z\"/>\n",
              "  </svg>\n",
              "      </button>\n",
              "      \n",
              "  <style>\n",
              "    .colab-df-container {\n",
              "      display:flex;\n",
              "      flex-wrap:wrap;\n",
              "      gap: 12px;\n",
              "    }\n",
              "\n",
              "    .colab-df-convert {\n",
              "      background-color: #E8F0FE;\n",
              "      border: none;\n",
              "      border-radius: 50%;\n",
              "      cursor: pointer;\n",
              "      display: none;\n",
              "      fill: #1967D2;\n",
              "      height: 32px;\n",
              "      padding: 0 0 0 0;\n",
              "      width: 32px;\n",
              "    }\n",
              "\n",
              "    .colab-df-convert:hover {\n",
              "      background-color: #E2EBFA;\n",
              "      box-shadow: 0px 1px 2px rgba(60, 64, 67, 0.3), 0px 1px 3px 1px rgba(60, 64, 67, 0.15);\n",
              "      fill: #174EA6;\n",
              "    }\n",
              "\n",
              "    [theme=dark] .colab-df-convert {\n",
              "      background-color: #3B4455;\n",
              "      fill: #D2E3FC;\n",
              "    }\n",
              "\n",
              "    [theme=dark] .colab-df-convert:hover {\n",
              "      background-color: #434B5C;\n",
              "      box-shadow: 0px 1px 3px 1px rgba(0, 0, 0, 0.15);\n",
              "      filter: drop-shadow(0px 1px 2px rgba(0, 0, 0, 0.3));\n",
              "      fill: #FFFFFF;\n",
              "    }\n",
              "  </style>\n",
              "\n",
              "      <script>\n",
              "        const buttonEl =\n",
              "          document.querySelector('#df-abe253fc-2cc8-40f7-ae6a-90c10b776fcd button.colab-df-convert');\n",
              "        buttonEl.style.display =\n",
              "          google.colab.kernel.accessAllowed ? 'block' : 'none';\n",
              "\n",
              "        async function convertToInteractive(key) {\n",
              "          const element = document.querySelector('#df-abe253fc-2cc8-40f7-ae6a-90c10b776fcd');\n",
              "          const dataTable =\n",
              "            await google.colab.kernel.invokeFunction('convertToInteractive',\n",
              "                                                     [key], {});\n",
              "          if (!dataTable) return;\n",
              "\n",
              "          const docLinkHtml = 'Like what you see? Visit the ' +\n",
              "            '<a target=\"_blank\" href=https://colab.research.google.com/notebooks/data_table.ipynb>data table notebook</a>'\n",
              "            + ' to learn more about interactive tables.';\n",
              "          element.innerHTML = '';\n",
              "          dataTable['output_type'] = 'display_data';\n",
              "          await google.colab.output.renderOutput(dataTable, element);\n",
              "          const docLink = document.createElement('div');\n",
              "          docLink.innerHTML = docLinkHtml;\n",
              "          element.appendChild(docLink);\n",
              "        }\n",
              "      </script>\n",
              "    </div>\n",
              "  </div>\n",
              "  "
            ],
            "text/plain": [
              "   tid        date daypart  channel  \\\n",
              "0    1  2016-03-02       A        1   \n",
              "1    2  2016-03-02       A        1   \n",
              "2    3  2016-03-02       A        2   \n",
              "3    4  2016-03-02       A        2   \n",
              "4    5  2016-03-02       A        2   \n",
              "\n",
              "                                               items  \n",
              "0                                      21d683,21d683  \n",
              "1  aa254f,524e24,2f4a70,6ca4a6,221380,b8bfe8,2213...  \n",
              "2                 fe5db1,aa254f,550e0e,7356a8,7356a8  \n",
              "3                                             4d51b8  \n",
              "4                                             6050b0  "
            ]
          },
          "execution_count": 3,
          "metadata": {},
          "output_type": "execute_result"
        }
      ],
      "source": [
        "df.head()"
      ]
    },
    {
      "cell_type": "markdown",
      "metadata": {
        "id": "WFl8oqYuuQhU"
      },
      "source": [
        "### Missing values"
      ]
    },
    {
      "cell_type": "code",
      "execution_count": null,
      "metadata": {
        "colab": {
          "base_uri": "https://localhost:8080/"
        },
        "id": "-4Z-gUUGssp1",
        "outputId": "8300004c-d9df-41b7-88dd-0739529a8d03"
      },
      "outputs": [
        {
          "name": "stdout",
          "output_type": "stream",
          "text": [
            "tid        0\n",
            "date       0\n",
            "daypart    0\n",
            "channel    0\n",
            "items      0\n",
            "dtype: int64\n"
          ]
        }
      ],
      "source": [
        "# Checking for missing values\n",
        "missing = df.isnull().sum()\n",
        "print(missing)"
      ]
    },
    {
      "cell_type": "markdown",
      "metadata": {
        "id": "2WsKKLgDPcWc"
      },
      "source": [
        "### dtypes"
      ]
    },
    {
      "cell_type": "code",
      "execution_count": null,
      "metadata": {
        "colab": {
          "base_uri": "https://localhost:8080/"
        },
        "id": "BWBAD4xvPcl1",
        "outputId": "abd97d06-ab9e-4f7d-d3a9-6ee5e103da1d"
      },
      "outputs": [
        {
          "data": {
            "text/plain": [
              "tid         int64\n",
              "date       object\n",
              "daypart    object\n",
              "channel     int64\n",
              "items      object\n",
              "dtype: object"
            ]
          },
          "execution_count": 5,
          "metadata": {},
          "output_type": "execute_result"
        }
      ],
      "source": [
        "df.dtypes"
      ]
    },
    {
      "cell_type": "markdown",
      "metadata": {
        "id": "OCWHWtPZuUfF"
      },
      "source": [
        "### Items count by transaction histogram"
      ]
    },
    {
      "cell_type": "code",
      "execution_count": null,
      "metadata": {
        "colab": {
          "base_uri": "https://localhost:8080/",
          "height": 298
        },
        "id": "DTxGD29ptt_s",
        "outputId": "e5437c09-85fe-4aaa-bff3-8e8af2f29fc4"
      },
      "outputs": [
        {
          "data": {
            "text/plain": [
              "<matplotlib.axes._subplots.AxesSubplot at 0x7f1426104f10>"
            ]
          },
          "execution_count": 6,
          "metadata": {},
          "output_type": "execute_result"
        },
        {
          "data": {
            "image/png": "[encoded data removed]",
            "text/plain": [
              "<Figure size 432x288 with 1 Axes>"
            ]
          },
          "metadata": {},
          "output_type": "display_data"
        }
      ],
      "source": [
        "# replace coma with space in the items feature\n",
        "df['items'] = df['items'].str.replace(',',' ')\n",
        "\n",
        "# create feature for counting the number of items\n",
        "df['items_count']=df['items'].str.count(' ') + 1\n",
        "\n",
        "# Items count by transaction histogram\n",
        "sns.histplot(data=df, x=\"items_count\")"
      ]
    },
    {
      "cell_type": "markdown",
      "metadata": {
        "id": "DJehT2PrEo1k"
      },
      "source": [
        "### Items histogram"
      ]
    },
    {
      "cell_type": "code",
      "execution_count": null,
      "metadata": {
        "colab": {
          "base_uri": "https://localhost:8080/",
          "height": 300
        },
        "id": "zty7JOp5KyRV",
        "outputId": "c6873568-a418-4fe7-c502-b3186616bca4"
      },
      "outputs": [
        {
          "data": {
            "text/plain": [
              "<matplotlib.axes._subplots.AxesSubplot at 0x7f142233dad0>"
            ]
          },
          "execution_count": 7,
          "metadata": {},
          "output_type": "execute_result"
        },
        {
          "data": {
            "image/png": "[encoded data removed]",
            "text/plain": [
              "<Figure size 432x288 with 1 Axes>"
            ]
          },
          "metadata": {},
          "output_type": "display_data"
        }
      ],
      "source": [
        "# BOW for all the items\n",
        "all_items = []\n",
        "for trans in df[\"items\"]:\n",
        "  all_items += trans.split()\n",
        "\n",
        "# Calculate the frequency of the items\n",
        "freq = pd.DataFrame({'freq': all_items})\n",
        "freq.sort_values(by=\"freq\", ascending=False, inplace=True)\n",
        "freq= freq.groupby('freq', as_index=False).size()\n",
        "freq= freq.sort_values(by=['size'])\n",
        "sns.barplot(x=\"size\", y=\"freq\", data=freq)"
      ]
    },
    {
      "cell_type": "markdown",
      "metadata": {
        "id": "VFOq3ruEuwgM"
      },
      "source": [
        "### Channel histogram"
      ]
    },
    {
      "cell_type": "code",
      "execution_count": null,
      "metadata": {
        "colab": {
          "base_uri": "https://localhost:8080/",
          "height": 350
        },
        "id": "SHRZ0O_Su5nF",
        "outputId": "9980fcb3-bbdd-4758-cd01-ef9412258f9a"
      },
      "outputs": [
        {
          "data": {
            "text/plain": [
              "2    36689\n",
              "3     4111\n",
              "1      495\n",
              "Name: channel, dtype: int64"
            ]
          },
          "execution_count": 8,
          "metadata": {},
          "output_type": "execute_result"
        },
        {
          "data": {
            "image/png": "[encoded data removed]",
            "text/plain": [
              "<Figure size 432x288 with 1 Axes>"
            ]
          },
          "metadata": {},
          "output_type": "display_data"
        }
      ],
      "source": [
        "# Channel histogram\n",
        "sns.histplot(data=df, x=\"channel\")\n",
        "df[\"channel\"].value_counts(())"
      ]
    },
    {
      "cell_type": "markdown",
      "metadata": {
        "id": "llTIIuv8u5vt"
      },
      "source": [
        "### Day-part histogram"
      ]
    },
    {
      "cell_type": "code",
      "execution_count": null,
      "metadata": {
        "colab": {
          "base_uri": "https://localhost:8080/",
          "height": 404
        },
        "id": "NGoRl_a6vC-1",
        "outputId": "a0f73913-3e82-4b6a-a226-13e68ff2de49"
      },
      "outputs": [
        {
          "data": {
            "text/plain": [
              "A    11161\n",
              "B     9813\n",
              "E     8394\n",
              "F     4471\n",
              "C     4188\n",
              "D     3268\n",
              "Name: daypart, dtype: int64"
            ]
          },
          "execution_count": 9,
          "metadata": {},
          "output_type": "execute_result"
        },
        {
          "data": {
            "image/png": "[encoded data removed]",
            "text/plain": [
              "<Figure size 432x288 with 1 Axes>"
            ]
          },
          "metadata": {},
          "output_type": "display_data"
        }
      ],
      "source": [
        "# daypart histogram\n",
        "sns.histplot(data=df, x=\"daypart\")\n",
        "df[\"daypart\"].value_counts(())"
      ]
    },
    {
      "cell_type": "markdown",
      "metadata": {
        "id": "hQzsDe219cB9"
      },
      "source": [
        "## Pre-processing "
      ]
    },
    {
      "cell_type": "code",
      "execution_count": null,
      "metadata": {
        "id": "gB9t_eoUbSsL"
      },
      "outputs": [],
      "source": [
        "# Extract day & month from time feature\n",
        "df['month'] = df['date'].apply(lambda x: 0 if x[6]==3 else 1)\n",
        "df['day'] = df['date'].apply(lambda x: x[8:10])\n",
        "\n",
        "# Drop unnecessary features\n",
        "df.drop(['tid','date'], inplace=True, axis=1)\n",
        "\n",
        "# Add 'None' item to 1 items transaction\n",
        "df.loc[df['items_count'] == 1, 'items'] += ' None'"
      ]
    },
    {
      "cell_type": "markdown",
      "metadata": {
        "id": "1Qr0POY9tL70"
      },
      "source": [
        "### One-Hot Encoding"
      ]
    },
    {
      "cell_type": "code",
      "execution_count": null,
      "metadata": {
        "id": "9OwSXyUgkCmT"
      },
      "outputs": [],
      "source": [
        "# Transform categorical features to dummies\n",
        "non_dummy_cols = ['items','items_count'] \n",
        "dummy_cols = list(set(df.columns) - set(non_dummy_cols))\n",
        "df = pd.get_dummies(df, columns=dummy_cols)"
      ]
    },
    {
      "cell_type": "markdown",
      "metadata": {
        "id": "KFc3sLNWFoGV"
      },
      "source": [
        "## Train-Test split"
      ]
    },
    {
      "cell_type": "markdown",
      "metadata": {
        "id": "LhoRr49h1S5Q"
      },
      "source": [
        ""
      ]
    },
    {
      "cell_type": "code",
      "execution_count": null,
      "metadata": {
        "id": "HCKe0S90v06F"
      },
      "outputs": [],
      "source": [
        "# Split the data frame with 80-20% ratio\n",
        "df_train = df.sample(frac = 0.8, random_state=42)\n",
        "df_test = df.drop(df_train.index)"
      ]
    },
    {
      "cell_type": "markdown",
      "metadata": {
        "id": "ZnsIOmZK1Yu_"
      },
      "source": [
        "Transaction: [aa254f 524e24 2f4a70 6ca4a6 221380 b8bfe8 2213 b8bfe8]"
      ]
    },
    {
      "cell_type": "code",
      "execution_count": null,
      "metadata": {
        "colab": {
          "background_save": true,
          "base_uri": "https://localhost:8080/"
        },
        "id": "y_ynzv3hMeKC",
        "outputId": "19750d7e-ea28-4cd1-bd36-4bbf654d362d"
      },
      "outputs": [
        {
          "name": "stderr",
          "output_type": "stream",
          "text": [
            "  0%|          | 0/33036 [00:00<?, ?it/s]/usr/local/lib/python3.7/dist-packages/pandas/core/series.py:1056: SettingWithCopyWarning: \n",
            "A value is trying to be set on a copy of a slice from a DataFrame\n",
            "\n",
            "See the caveats in the documentation: https://pandas.pydata.org/pandas-docs/stable/user_guide/indexing.html#returning-a-view-versus-a-copy\n",
            "  cacher_needs_updating = self._check_is_chained_assignment_possible()\n",
            "/usr/local/lib/python3.7/dist-packages/pandas/core/indexing.py:1724: SettingWithCopyWarning: \n",
            "A value is trying to be set on a copy of a slice from a DataFrame\n",
            "\n",
            "See the caveats in the documentation: https://pandas.pydata.org/pandas-docs/stable/user_guide/indexing.html#returning-a-view-versus-a-copy\n",
            "  self._setitem_with_indexer_missing(indexer, value)\n",
            "100%|██████████| 33036/33036 [1:07:09<00:00,  8.20it/s]\n"
          ]
        }
      ],
      "source": [
        "'''Create a new data frame where:\n",
        "'input item': one of the items in the list\n",
        "'items_purchased': items to the left of 'item', i.e the items purchased after\n",
        "'target': on of the items from 'items_purchased' list\n",
        "'''\n",
        "df_train_full = pd.DataFrame()\n",
        "\n",
        "# Run over each row in the df_train\n",
        "for k in tqdm ( range(len(df_train)) ):\n",
        "  row = df_train.iloc[k]\n",
        "  sentence= row[\"items\"].split()\n",
        "  number_of_items=row[\"items_count\"]\n",
        "\n",
        "  # In case of one item transaction append be the following\n",
        "  if (number_of_items==1):\n",
        "      row[\"input_item\"]=sentence[0]\n",
        "      row[\"target\"]=sentence[1]\n",
        "      df_train_full=df_train_full.append(row)\n",
        "  else:\n",
        "    # Run over the items for each transaction\n",
        "    for i in range(0, number_of_items):\n",
        "      for j in range(i+1, number_of_items):\n",
        "        row[\"input_item\"]=sentence[i]\n",
        "        row[\"target\"]=sentence[j]\n",
        "        df_train_full=df_train_full.append(row)\n"
      ]
    },
    {
      "cell_type": "code",
      "execution_count": null,
      "metadata": {
        "colab": {
          "background_save": true
        },
        "id": "cuBLblDgwyP_",
        "outputId": "a928371c-300d-4513-c756-7c0053603a41"
      },
      "outputs": [
        {
          "data": {
            "text/plain": [
              "(187883, 45)"
            ]
          },
          "execution_count": 14,
          "metadata": {},
          "output_type": "execute_result"
        }
      ],
      "source": [
        "df_train_full.shape"
      ]
    },
    {
      "cell_type": "markdown",
      "metadata": {
        "id": "sQFVSgqPz3dK"
      },
      "source": [
        "## word2vec embedding model training"
      ]
    },
    {
      "cell_type": "code",
      "execution_count": null,
      "metadata": {
        "colab": {
          "background_save": true
        },
        "id": "xwI1SoCWLxB7"
      },
      "outputs": [],
      "source": [
        "# Tokenized the transactions for lists of items\n",
        "tokenized_sent= df_train['items'].apply(lambda x: x.split())\n",
        "\n",
        "# Train the word2vec model\n",
        "word_model = Word2Vec(sentences=tokenized_sent, min_count=1)"
      ]
    },
    {
      "cell_type": "code",
      "execution_count": null,
      "metadata": {
        "colab": {
          "background_save": true
        },
        "id": "X_5GczHoI50E",
        "outputId": "b97034d9-71e1-494f-a282-2d777da6da1d"
      },
      "outputs": [
        {
          "name": "stderr",
          "output_type": "stream",
          "text": [
            "/usr/local/lib/python3.7/dist-packages/ipykernel_launcher.py:7: DeprecationWarning: Call to deprecated `__getitem__` (Method will be removed in 4.0.0, use self.wv.__getitem__() instead).\n",
            "  import sys\n"
          ]
        }
      ],
      "source": [
        "# Define the simple average sentence embedding\n",
        "def simple_average(sents, word_model):\n",
        "    sents_emd = []\n",
        "    for s in sents:\n",
        "        sent_emd = []\n",
        "        for w in s.split():\n",
        "          sent_emd.append(word_model[w])\n",
        "        sent_emd_ar = np.array(sent_emd)\n",
        "        sum_ = np.array(sent_emd).sum(axis=0)\n",
        "        result = sum_/np.sqrt((sum_**2).sum())\n",
        "        sents_emd.append(result)\n",
        "        \n",
        "    return sents_emd\n",
        "\n",
        "# Define the encoder process\n",
        "def word_encoder(df_to_ecode, word_model):\n",
        "  vectors_df = pd.DataFrame( simple_average(df_to_ecode[\"input_item\"], word_model) )\n",
        "\n",
        "  # Joint the vectors to the data frame\n",
        "  df_to_ecode.reset_index(drop=True, inplace=True)\n",
        "  vectors_df.reset_index(drop=True, inplace=True)\n",
        "  df_to_ecode = pd.concat( [df_to_ecode, vectors_df], axis=1)\n",
        "\n",
        "  return df_to_ecode\n",
        "\n",
        "# Encde the train-set\n",
        "X_train = word_encoder(df_train_full, word_model)\n",
        "X_train.drop(['input_item','items'], inplace=True, axis=1)"
      ]
    },
    {
      "cell_type": "code",
      "execution_count": null,
      "metadata": {
        "colab": {
          "background_save": true
        },
        "id": "SaEzdo6vjzHV",
        "outputId": "cab5b01e-18dc-494a-e987-c211190437f6"
      },
      "outputs": [
        {
          "data": {
            "text/html": [
              "\n",
              "  <div id=\"df-983ec369-2399-420b-9788-68308fb077dd\">\n",
              "    <div class=\"colab-df-container\">\n",
              "      <div>\n",
              "<style scoped>\n",
              "    .dataframe tbody tr th:only-of-type {\n",
              "        vertical-align: middle;\n",
              "    }\n",
              "\n",
              "    .dataframe tbody tr th {\n",
              "        vertical-align: top;\n",
              "    }\n",
              "\n",
              "    .dataframe thead th {\n",
              "        text-align: right;\n",
              "    }\n",
              "</style>\n",
              "<table border=\"1\" class=\"dataframe\">\n",
              "  <thead>\n",
              "    <tr style=\"text-align: right;\">\n",
              "      <th></th>\n",
              "      <th>items_count</th>\n",
              "      <th>month_1</th>\n",
              "      <th>channel_1</th>\n",
              "      <th>channel_2</th>\n",
              "      <th>channel_3</th>\n",
              "      <th>daypart_A</th>\n",
              "      <th>daypart_B</th>\n",
              "      <th>daypart_C</th>\n",
              "      <th>daypart_D</th>\n",
              "      <th>daypart_E</th>\n",
              "      <th>...</th>\n",
              "      <th>90</th>\n",
              "      <th>91</th>\n",
              "      <th>92</th>\n",
              "      <th>93</th>\n",
              "      <th>94</th>\n",
              "      <th>95</th>\n",
              "      <th>96</th>\n",
              "      <th>97</th>\n",
              "      <th>98</th>\n",
              "      <th>99</th>\n",
              "    </tr>\n",
              "  </thead>\n",
              "  <tbody>\n",
              "    <tr>\n",
              "      <th>0</th>\n",
              "      <td>8.0</td>\n",
              "      <td>1.0</td>\n",
              "      <td>0.0</td>\n",
              "      <td>1.0</td>\n",
              "      <td>0.0</td>\n",
              "      <td>0.0</td>\n",
              "      <td>0.0</td>\n",
              "      <td>0.0</td>\n",
              "      <td>0.0</td>\n",
              "      <td>1.0</td>\n",
              "      <td>...</td>\n",
              "      <td>0.007449</td>\n",
              "      <td>-0.027078</td>\n",
              "      <td>0.185467</td>\n",
              "      <td>-0.20865</td>\n",
              "      <td>-0.031215</td>\n",
              "      <td>-0.004502</td>\n",
              "      <td>-0.054068</td>\n",
              "      <td>0.011063</td>\n",
              "      <td>0.130451</td>\n",
              "      <td>0.025819</td>\n",
              "    </tr>\n",
              "    <tr>\n",
              "      <th>1</th>\n",
              "      <td>8.0</td>\n",
              "      <td>1.0</td>\n",
              "      <td>0.0</td>\n",
              "      <td>1.0</td>\n",
              "      <td>0.0</td>\n",
              "      <td>0.0</td>\n",
              "      <td>0.0</td>\n",
              "      <td>0.0</td>\n",
              "      <td>0.0</td>\n",
              "      <td>1.0</td>\n",
              "      <td>...</td>\n",
              "      <td>0.007449</td>\n",
              "      <td>-0.027078</td>\n",
              "      <td>0.185467</td>\n",
              "      <td>-0.20865</td>\n",
              "      <td>-0.031215</td>\n",
              "      <td>-0.004502</td>\n",
              "      <td>-0.054068</td>\n",
              "      <td>0.011063</td>\n",
              "      <td>0.130451</td>\n",
              "      <td>0.025819</td>\n",
              "    </tr>\n",
              "    <tr>\n",
              "      <th>2</th>\n",
              "      <td>8.0</td>\n",
              "      <td>1.0</td>\n",
              "      <td>0.0</td>\n",
              "      <td>1.0</td>\n",
              "      <td>0.0</td>\n",
              "      <td>0.0</td>\n",
              "      <td>0.0</td>\n",
              "      <td>0.0</td>\n",
              "      <td>0.0</td>\n",
              "      <td>1.0</td>\n",
              "      <td>...</td>\n",
              "      <td>0.007449</td>\n",
              "      <td>-0.027078</td>\n",
              "      <td>0.185467</td>\n",
              "      <td>-0.20865</td>\n",
              "      <td>-0.031215</td>\n",
              "      <td>-0.004502</td>\n",
              "      <td>-0.054068</td>\n",
              "      <td>0.011063</td>\n",
              "      <td>0.130451</td>\n",
              "      <td>0.025819</td>\n",
              "    </tr>\n",
              "  </tbody>\n",
              "</table>\n",
              "<p>3 rows × 143 columns</p>\n",
              "</div>\n",
              "      <button class=\"colab-df-convert\" onclick=\"convertToInteractive('df-983ec369-2399-420b-9788-68308fb077dd')\"\n",
              "              title=\"Convert this dataframe to an interactive table.\"\n",
              "              style=\"display:none;\">\n",
              "        \n",
              "  <svg xmlns=\"http://www.w3.org/2000/svg\" height=\"24px\"viewBox=\"0 0 24 24\"\n",
              "       width=\"24px\">\n",
              "    <path d=\"M0 0h24v24H0V0z\" fill=\"none\"/>\n",
              "    <path d=\"M18.56 5.44l.94 2.06.94-2.06 2.06-.94-2.06-.94-.94-2.06-.94 2.06-2.06.94zm-11 1L8.5 8.5l.94-2.06 2.06-.94-2.06-.94L8.5 2.5l-.94 2.06-2.06.94zm10 10l.94 2.06.94-2.06 2.06-.94-2.06-.94-.94-2.06-.94 2.06-2.06.94z\"/><path d=\"M17.41 7.96l-1.37-1.37c-.4-.4-.92-.59-1.43-.59-.52 0-1.04.2-1.43.59L10.3 9.45l-7.72 7.72c-.78.78-.78 2.05 0 2.83L4 21.41c.39.39.9.59 1.41.59.51 0 1.02-.2 1.41-.59l7.78-7.78 2.81-2.81c.8-.78.8-2.07 0-2.86zM5.41 20L4 18.59l7.72-7.72 1.47 1.35L5.41 20z\"/>\n",
              "  </svg>\n",
              "      </button>\n",
              "      \n",
              "  <style>\n",
              "    .colab-df-container {\n",
              "      display:flex;\n",
              "      flex-wrap:wrap;\n",
              "      gap: 12px;\n",
              "    }\n",
              "\n",
              "    .colab-df-convert {\n",
              "      background-color: #E8F0FE;\n",
              "      border: none;\n",
              "      border-radius: 50%;\n",
              "      cursor: pointer;\n",
              "      display: none;\n",
              "      fill: #1967D2;\n",
              "      height: 32px;\n",
              "      padding: 0 0 0 0;\n",
              "      width: 32px;\n",
              "    }\n",
              "\n",
              "    .colab-df-convert:hover {\n",
              "      background-color: #E2EBFA;\n",
              "      box-shadow: 0px 1px 2px rgba(60, 64, 67, 0.3), 0px 1px 3px 1px rgba(60, 64, 67, 0.15);\n",
              "      fill: #174EA6;\n",
              "    }\n",
              "\n",
              "    [theme=dark] .colab-df-convert {\n",
              "      background-color: #3B4455;\n",
              "      fill: #D2E3FC;\n",
              "    }\n",
              "\n",
              "    [theme=dark] .colab-df-convert:hover {\n",
              "      background-color: #434B5C;\n",
              "      box-shadow: 0px 1px 3px 1px rgba(0, 0, 0, 0.15);\n",
              "      filter: drop-shadow(0px 1px 2px rgba(0, 0, 0, 0.3));\n",
              "      fill: #FFFFFF;\n",
              "    }\n",
              "  </style>\n",
              "\n",
              "      <script>\n",
              "        const buttonEl =\n",
              "          document.querySelector('#df-983ec369-2399-420b-9788-68308fb077dd button.colab-df-convert');\n",
              "        buttonEl.style.display =\n",
              "          google.colab.kernel.accessAllowed ? 'block' : 'none';\n",
              "\n",
              "        async function convertToInteractive(key) {\n",
              "          const element = document.querySelector('#df-983ec369-2399-420b-9788-68308fb077dd');\n",
              "          const dataTable =\n",
              "            await google.colab.kernel.invokeFunction('convertToInteractive',\n",
              "                                                     [key], {});\n",
              "          if (!dataTable) return;\n",
              "\n",
              "          const docLinkHtml = 'Like what you see? Visit the ' +\n",
              "            '<a target=\"_blank\" href=https://colab.research.google.com/notebooks/data_table.ipynb>data table notebook</a>'\n",
              "            + ' to learn more about interactive tables.';\n",
              "          element.innerHTML = '';\n",
              "          dataTable['output_type'] = 'display_data';\n",
              "          await google.colab.output.renderOutput(dataTable, element);\n",
              "          const docLink = document.createElement('div');\n",
              "          docLink.innerHTML = docLinkHtml;\n",
              "          element.appendChild(docLink);\n",
              "        }\n",
              "      </script>\n",
              "    </div>\n",
              "  </div>\n",
              "  "
            ],
            "text/plain": [
              "   items_count  month_1  channel_1  channel_2  channel_3  daypart_A  \\\n",
              "0          8.0      1.0        0.0        1.0        0.0        0.0   \n",
              "1          8.0      1.0        0.0        1.0        0.0        0.0   \n",
              "2          8.0      1.0        0.0        1.0        0.0        0.0   \n",
              "\n",
              "   daypart_B  daypart_C  daypart_D  daypart_E  ...        90        91  \\\n",
              "0        0.0        0.0        0.0        1.0  ...  0.007449 -0.027078   \n",
              "1        0.0        0.0        0.0        1.0  ...  0.007449 -0.027078   \n",
              "2        0.0        0.0        0.0        1.0  ...  0.007449 -0.027078   \n",
              "\n",
              "         92       93        94        95        96        97        98  \\\n",
              "0  0.185467 -0.20865 -0.031215 -0.004502 -0.054068  0.011063  0.130451   \n",
              "1  0.185467 -0.20865 -0.031215 -0.004502 -0.054068  0.011063  0.130451   \n",
              "2  0.185467 -0.20865 -0.031215 -0.004502 -0.054068  0.011063  0.130451   \n",
              "\n",
              "         99  \n",
              "0  0.025819  \n",
              "1  0.025819  \n",
              "2  0.025819  \n",
              "\n",
              "[3 rows x 143 columns]"
            ]
          },
          "execution_count": 17,
          "metadata": {},
          "output_type": "execute_result"
        }
      ],
      "source": [
        "X_train.head(3)"
      ]
    },
    {
      "cell_type": "markdown",
      "metadata": {
        "id": "jhHwirQSjcxa"
      },
      "source": [
        "## Test-set pre-processing"
      ]
    },
    {
      "cell_type": "markdown",
      "metadata": {
        "id": "J5_-Ws1EtZr5"
      },
      "source": [
        "Transaction: [aa254f 524e24 2f4a70 6ca4a6 221380 b8bfe8 2213 b8bfe8]"
      ]
    },
    {
      "cell_type": "code",
      "execution_count": null,
      "metadata": {
        "colab": {
          "background_save": true
        },
        "id": "RzTbwxIGPqT6",
        "outputId": "b0689ace-cde4-4a43-cbe0-368ac26be970"
      },
      "outputs": [
        {
          "name": "stderr",
          "output_type": "stream",
          "text": [
            "/usr/local/lib/python3.7/dist-packages/ipykernel_launcher.py:7: DeprecationWarning: Call to deprecated `__getitem__` (Method will be removed in 4.0.0, use self.wv.__getitem__() instead).\n",
            "  import sys\n"
          ]
        }
      ],
      "source": [
        "# Set the input and target featurs for the test-set\n",
        "df_test['input_item'] = df['items'].apply(lambda x: x.split()[0])\n",
        "df_test['items_purchased'] = df['items'].apply(lambda x: x.split()[1:])\n",
        "\n",
        "# Encode the input test-set\n",
        "X_test = word_encoder(df_test, word_model)\n",
        "X_test.drop(['input_item','items'], inplace=True, axis=1)"
      ]
    },
    {
      "cell_type": "markdown",
      "metadata": {
        "id": "SH8Loknf1V_1"
      },
      "source": [
        "## Train Logistic Regression classifier"
      ]
    },
    {
      "cell_type": "code",
      "execution_count": null,
      "metadata": {
        "colab": {
          "background_save": true
        },
        "id": "k_cmUffJ8W20",
        "outputId": "ed8fe82b-8bb1-4f7e-8347-d843a43f8f3d"
      },
      "outputs": [
        {
          "name": "stderr",
          "output_type": "stream",
          "text": [
            "/usr/local/lib/python3.7/dist-packages/sklearn/utils/validation.py:1692: FutureWarning: Feature names only support names that are all strings. Got feature names with dtypes: ['int', 'str']. An error will be raised in 1.2.\n",
            "  FutureWarning,\n",
            "/usr/local/lib/python3.7/dist-packages/sklearn/linear_model/_logistic.py:818: ConvergenceWarning: lbfgs failed to converge (status=1):\n",
            "STOP: TOTAL NO. of ITERATIONS REACHED LIMIT.\n",
            "\n",
            "Increase the number of iterations (max_iter) or scale the data as shown in:\n",
            "    https://scikit-learn.org/stable/modules/preprocessing.html\n",
            "Please also refer to the documentation for alternative solver options:\n",
            "    https://scikit-learn.org/stable/modules/linear_model.html#logistic-regression\n",
            "  extra_warning_msg=_LOGISTIC_SOLVER_CONVERGENCE_MSG,\n",
            "/usr/local/lib/python3.7/dist-packages/sklearn/utils/validation.py:1692: FutureWarning: Feature names only support names that are all strings. Got feature names with dtypes: ['int', 'str']. An error will be raised in 1.2.\n",
            "  FutureWarning,\n"
          ]
        }
      ],
      "source": [
        "# Extract the target feature for the classifier training\n",
        "y_train=X_train[\"target\"]\n",
        "X_train.drop('target', inplace=True, axis=1)\n",
        "\n",
        "# Extract the target feature hit-rate metric\n",
        "y_test=X_test[\"items_purchased\"]\n",
        "X_test.drop('items_purchased', inplace=True, axis=1)\n",
        "\n",
        "# Fit Logistic Regression model\n",
        "clf = LogisticRegression(random_state=0)\n",
        "clf.fit(X_train, y_train)\n",
        "\n",
        "# Predict the probability vectors for the test instances\n",
        "y_pred_prob = clf.predict_proba(X_test)\n",
        "\n",
        "# Get the items list by index\n",
        "items_by_ind=clf.classes_"
      ]
    },
    {
      "cell_type": "markdown",
      "metadata": {
        "id": "08KzXFjLt-sQ"
      },
      "source": [
        "## Hit-Rate metric\n",
        "\n",
        "\n",
        "**Example**\n",
        "\n",
        "Predicted top n: [aa254f 524e24 2f4a70]\n",
        "\n",
        "\n",
        "True items purchased: [aa254f aa254f aa254f]\n",
        "\n",
        "Total hit-rate: 3/3=1\n",
        "\n",
        "\n",
        "Total hit-rate per item: 1/3=0.33"
      ]
    },
    {
      "cell_type": "code",
      "execution_count": null,
      "metadata": {
        "id": "G4EOrWv-8W5G"
      },
      "outputs": [],
      "source": [
        "''''Define the hit rate metric where:\n",
        "total hits calculated as the correct suggestion multiple by the number of true perceived items\n",
        "total miss calculated as the incorrect suggestions while a transaction with less than the suggestion items is not included '''\n",
        "\n",
        "def hit_rate(y_pred_prob, items_purchased, items_by_ind, threshold=0.05):\n",
        "  total_hits=0\n",
        "  total_item_hits_=0\n",
        "  total_miss=0\n",
        "  list_zip = zip(y_pred_prob, items_purchased)\n",
        "  for prob_vec, true_items in list_zip:\n",
        "    ind = np.argpartition(prob_vec, -5)[-5:]\n",
        "    top_n = items_by_ind[ind[2:5]]\n",
        "    if (prob_vec[ind[1]] > threshold):\n",
        "      top_n= np.append(top_n, items_by_ind[ind[1]])\n",
        "    if (prob_vec[ind[0]] > threshold):\n",
        "      top_n=np.append(top_n, items_by_ind[ind[0]])\n",
        "    total_hits += len(list(filter(top_n.__contains__, true_items)))\n",
        "    total_item_hits_ += len(list(filter(true_items.__contains__, top_n)))\n",
        "    total_miss += min(3, len(true_items))\n",
        "\n",
        "    if (total_miss % 1000 == 0):\n",
        "      print(\"Top n:\", top_n)\n",
        "      print(\"True purchased items\", true_items)\n",
        "\n",
        "  return total_hits/total_miss, total_item_hits_/total_miss\n",
        "\n",
        "hit_results, item_hit_results= hit_rate(y_pred_prob, y_test, items_by_ind)"
      ]
    },
    {
      "cell_type": "code",
      "execution_count": null,
      "metadata": {
        "colab": {
          "background_save": true
        },
        "id": "csC1EKid5hEI",
        "outputId": "c21aba17-116b-4dec-85e2-8c3d03c17173"
      },
      "outputs": [
        {
          "name": "stdout",
          "output_type": "stream",
          "text": [
            "Total hit-rate: 0.668\n",
            "Total hit-rate per item: 0.495\n"
          ]
        }
      ],
      "source": [
        "print ( \"Total hit-rate:\",round(hit_results, 3) )\n",
        "print ( \"Total hit-rate per item:\",round(item_hit_results, 3) )"
      ]
    },
    {
      "cell_type": "markdown",
      "metadata": {
        "id": "PRqKZ76MM7eI"
      },
      "source": [
        "## Predict for 1+ item(s)"
      ]
    },
    {
      "cell_type": "code",
      "execution_count": null,
      "metadata": {
        "id": "S9qzjq3avBGF"
      },
      "outputs": [],
      "source": [
        "# aa254f,524e24,2f4a70,6ca4a6,221380,b8bfe8,221380,221380,221380,363929,363929\n",
        "\n",
        "sample_1= df_test.iloc[0:1]\n",
        "sample_1['input_item'].iloc[0]='aa254f 524e24 2f4a70'\n",
        "sample_1['items_purchased'].iloc[0]=[\"6ca4a6\", \"221380\", \"b8bfe8\", \"221380\", \"221380\", \"363929\", \"363929\"]\n",
        "\n",
        "X_test = word_encoder(sample_1, word_model)\n",
        "X_test.drop(['input_item','items'], inplace=True, axis=1)\n",
        "\n",
        "# Extract the target feature hit-rate metric\n",
        "y_test=X_test[\"items_purchased\"]\n",
        "X_test.drop('items_purchased', inplace=True, axis=1)\n",
        "\n",
        "# Predict the probability vectors for the test instances\n",
        "y_pred_prob = clf.predict_proba(X_test)\n",
        "\n",
        "hit_results, item_hit_results= hit_rate(y_pred_prob, y_test, items_by_ind)\n",
        "\n",
        "print ( \"Total hit-rate:\",round(hit_results, 3) )\n",
        "print ( \"Total hit-rate per item:\",round(item_hit_results, 3) )"
      ]
    }
  ],
  "metadata": {
    "colab": {
      "collapsed_sections": [],
      "name": "TMS.ipynb",
      "provenance": []
    },
    "kernelspec": {
      "display_name": "Python 3",
      "name": "python3"
    },
    "language_info": {
      "name": "python"
    }
  },
  "nbformat": 4,
  "nbformat_minor": 0
}